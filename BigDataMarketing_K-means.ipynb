{
 "cells": [
  {
   "cell_type": "code",
   "execution_count": 1,
   "id": "0c1a186a",
   "metadata": {},
   "outputs": [
    {
     "data": {
      "text/html": [
       "<div>\n",
       "<style scoped>\n",
       "    .dataframe tbody tr th:only-of-type {\n",
       "        vertical-align: middle;\n",
       "    }\n",
       "\n",
       "    .dataframe tbody tr th {\n",
       "        vertical-align: top;\n",
       "    }\n",
       "\n",
       "    .dataframe thead th {\n",
       "        text-align: right;\n",
       "    }\n",
       "</style>\n",
       "<table border=\"1\" class=\"dataframe\">\n",
       "  <thead>\n",
       "    <tr style=\"text-align: right;\">\n",
       "      <th></th>\n",
       "      <th>Rank</th>\n",
       "      <th>Restaurant</th>\n",
       "      <th>Sales</th>\n",
       "      <th>Average Check</th>\n",
       "      <th>City</th>\n",
       "      <th>State</th>\n",
       "      <th>Meals Served</th>\n",
       "    </tr>\n",
       "  </thead>\n",
       "  <tbody>\n",
       "    <tr>\n",
       "      <th>0</th>\n",
       "      <td>1</td>\n",
       "      <td>Carmine's (Times Square)</td>\n",
       "      <td>39080335.0</td>\n",
       "      <td>40</td>\n",
       "      <td>New York</td>\n",
       "      <td>N.Y.</td>\n",
       "      <td>469803.0</td>\n",
       "    </tr>\n",
       "    <tr>\n",
       "      <th>1</th>\n",
       "      <td>2</td>\n",
       "      <td>The Boathouse Orlando</td>\n",
       "      <td>35218364.0</td>\n",
       "      <td>43</td>\n",
       "      <td>Orlando</td>\n",
       "      <td>Fla.</td>\n",
       "      <td>820819.0</td>\n",
       "    </tr>\n",
       "    <tr>\n",
       "      <th>2</th>\n",
       "      <td>3</td>\n",
       "      <td>Old Ebbitt Grill</td>\n",
       "      <td>29104017.0</td>\n",
       "      <td>33</td>\n",
       "      <td>Washington</td>\n",
       "      <td>D.C.</td>\n",
       "      <td>892830.0</td>\n",
       "    </tr>\n",
       "    <tr>\n",
       "      <th>3</th>\n",
       "      <td>4</td>\n",
       "      <td>LAVO Italian Restaurant &amp; Nightclub</td>\n",
       "      <td>26916180.0</td>\n",
       "      <td>90</td>\n",
       "      <td>New York</td>\n",
       "      <td>N.Y.</td>\n",
       "      <td>198500.0</td>\n",
       "    </tr>\n",
       "    <tr>\n",
       "      <th>4</th>\n",
       "      <td>5</td>\n",
       "      <td>Bryant Park Grill &amp; Cafe</td>\n",
       "      <td>26900000.0</td>\n",
       "      <td>62</td>\n",
       "      <td>New York</td>\n",
       "      <td>N.Y.</td>\n",
       "      <td>403000.0</td>\n",
       "    </tr>\n",
       "    <tr>\n",
       "      <th>...</th>\n",
       "      <td>...</td>\n",
       "      <td>...</td>\n",
       "      <td>...</td>\n",
       "      <td>...</td>\n",
       "      <td>...</td>\n",
       "      <td>...</td>\n",
       "      <td>...</td>\n",
       "    </tr>\n",
       "    <tr>\n",
       "      <th>95</th>\n",
       "      <td>96</td>\n",
       "      <td>George's at the Cove</td>\n",
       "      <td>12194000.0</td>\n",
       "      <td>80</td>\n",
       "      <td>La Jolla</td>\n",
       "      <td>Calif.</td>\n",
       "      <td>250000.0</td>\n",
       "    </tr>\n",
       "    <tr>\n",
       "      <th>96</th>\n",
       "      <td>97</td>\n",
       "      <td>Le Coucou</td>\n",
       "      <td>12187523.0</td>\n",
       "      <td>95</td>\n",
       "      <td>New York</td>\n",
       "      <td>N.Y.</td>\n",
       "      <td>87070.0</td>\n",
       "    </tr>\n",
       "    <tr>\n",
       "      <th>97</th>\n",
       "      <td>98</td>\n",
       "      <td>Mi Vida</td>\n",
       "      <td>12032014.0</td>\n",
       "      <td>38</td>\n",
       "      <td>Washington</td>\n",
       "      <td>D.C.</td>\n",
       "      <td>226226.0</td>\n",
       "    </tr>\n",
       "    <tr>\n",
       "      <th>98</th>\n",
       "      <td>99</td>\n",
       "      <td>Upland</td>\n",
       "      <td>11965564.0</td>\n",
       "      <td>52</td>\n",
       "      <td>New York</td>\n",
       "      <td>N.Y.</td>\n",
       "      <td>171825.0</td>\n",
       "    </tr>\n",
       "    <tr>\n",
       "      <th>99</th>\n",
       "      <td>100</td>\n",
       "      <td>Virgil's Real Barbecue</td>\n",
       "      <td>11391678.0</td>\n",
       "      <td>27</td>\n",
       "      <td>Las Vegas</td>\n",
       "      <td>Nev.</td>\n",
       "      <td>208276.0</td>\n",
       "    </tr>\n",
       "  </tbody>\n",
       "</table>\n",
       "<p>100 rows × 7 columns</p>\n",
       "</div>"
      ],
      "text/plain": [
       "    Rank                           Restaurant       Sales  Average Check  \\\n",
       "0      1             Carmine's (Times Square)  39080335.0             40   \n",
       "1      2                The Boathouse Orlando  35218364.0             43   \n",
       "2      3                     Old Ebbitt Grill  29104017.0             33   \n",
       "3      4  LAVO Italian Restaurant & Nightclub  26916180.0             90   \n",
       "4      5             Bryant Park Grill & Cafe  26900000.0             62   \n",
       "..   ...                                  ...         ...            ...   \n",
       "95    96                 George's at the Cove  12194000.0             80   \n",
       "96    97                            Le Coucou  12187523.0             95   \n",
       "97    98                              Mi Vida  12032014.0             38   \n",
       "98    99                               Upland  11965564.0             52   \n",
       "99   100               Virgil's Real Barbecue  11391678.0             27   \n",
       "\n",
       "          City   State  Meals Served  \n",
       "0     New York    N.Y.      469803.0  \n",
       "1     Orlando     Fla.      820819.0  \n",
       "2   Washington    D.C.      892830.0  \n",
       "3     New York    N.Y.      198500.0  \n",
       "4     New York    N.Y.      403000.0  \n",
       "..         ...     ...           ...  \n",
       "95    La Jolla  Calif.      250000.0  \n",
       "96    New York    N.Y.       87070.0  \n",
       "97  Washington    D.C.      226226.0  \n",
       "98    New York    N.Y.      171825.0  \n",
       "99   Las Vegas    Nev.      208276.0  \n",
       "\n",
       "[100 rows x 7 columns]"
      ]
     },
     "execution_count": 1,
     "metadata": {},
     "output_type": "execute_result"
    }
   ],
   "source": [
    "import pandas as pd\n",
    "\n",
    "df = pd.read_csv(\"Independence100.csv\" , encoding = \"utf-8\")\n",
    "\n",
    "df"
   ]
  },
  {
   "cell_type": "code",
   "execution_count": 2,
   "id": "d097d94d",
   "metadata": {},
   "outputs": [
    {
     "data": {
      "text/html": [
       "<div>\n",
       "<style scoped>\n",
       "    .dataframe tbody tr th:only-of-type {\n",
       "        vertical-align: middle;\n",
       "    }\n",
       "\n",
       "    .dataframe tbody tr th {\n",
       "        vertical-align: top;\n",
       "    }\n",
       "\n",
       "    .dataframe thead th {\n",
       "        text-align: right;\n",
       "    }\n",
       "</style>\n",
       "<table border=\"1\" class=\"dataframe\">\n",
       "  <thead>\n",
       "    <tr style=\"text-align: right;\">\n",
       "      <th></th>\n",
       "      <th>x</th>\n",
       "      <th>y</th>\n",
       "    </tr>\n",
       "  </thead>\n",
       "  <tbody>\n",
       "    <tr>\n",
       "      <th>0</th>\n",
       "      <td>40</td>\n",
       "      <td>39080335.0</td>\n",
       "    </tr>\n",
       "    <tr>\n",
       "      <th>1</th>\n",
       "      <td>43</td>\n",
       "      <td>35218364.0</td>\n",
       "    </tr>\n",
       "    <tr>\n",
       "      <th>2</th>\n",
       "      <td>33</td>\n",
       "      <td>29104017.0</td>\n",
       "    </tr>\n",
       "    <tr>\n",
       "      <th>3</th>\n",
       "      <td>90</td>\n",
       "      <td>26916180.0</td>\n",
       "    </tr>\n",
       "    <tr>\n",
       "      <th>4</th>\n",
       "      <td>62</td>\n",
       "      <td>26900000.0</td>\n",
       "    </tr>\n",
       "    <tr>\n",
       "      <th>...</th>\n",
       "      <td>...</td>\n",
       "      <td>...</td>\n",
       "    </tr>\n",
       "    <tr>\n",
       "      <th>95</th>\n",
       "      <td>80</td>\n",
       "      <td>12194000.0</td>\n",
       "    </tr>\n",
       "    <tr>\n",
       "      <th>96</th>\n",
       "      <td>95</td>\n",
       "      <td>12187523.0</td>\n",
       "    </tr>\n",
       "    <tr>\n",
       "      <th>97</th>\n",
       "      <td>38</td>\n",
       "      <td>12032014.0</td>\n",
       "    </tr>\n",
       "    <tr>\n",
       "      <th>98</th>\n",
       "      <td>52</td>\n",
       "      <td>11965564.0</td>\n",
       "    </tr>\n",
       "    <tr>\n",
       "      <th>99</th>\n",
       "      <td>27</td>\n",
       "      <td>11391678.0</td>\n",
       "    </tr>\n",
       "  </tbody>\n",
       "</table>\n",
       "<p>100 rows × 2 columns</p>\n",
       "</div>"
      ],
      "text/plain": [
       "     x           y\n",
       "0   40  39080335.0\n",
       "1   43  35218364.0\n",
       "2   33  29104017.0\n",
       "3   90  26916180.0\n",
       "4   62  26900000.0\n",
       "..  ..         ...\n",
       "95  80  12194000.0\n",
       "96  95  12187523.0\n",
       "97  38  12032014.0\n",
       "98  52  11965564.0\n",
       "99  27  11391678.0\n",
       "\n",
       "[100 rows x 2 columns]"
      ]
     },
     "execution_count": 2,
     "metadata": {},
     "output_type": "execute_result"
    }
   ],
   "source": [
    "df1 = pd.DataFrame()\n",
    "df1['x'] = df['Average Check']\n",
    "df1['y'] = df['Sales']\n",
    "df1"
   ]
  },
  {
   "cell_type": "code",
   "execution_count": 3,
   "id": "bb9ad96a",
   "metadata": {},
   "outputs": [
    {
     "data": {
      "text/plain": [
       "KMeans(n_clusters=3)"
      ]
     },
     "execution_count": 3,
     "metadata": {},
     "output_type": "execute_result"
    }
   ],
   "source": [
    "import matplotlib.pyplot as plt\n",
    "from sklearn import cluster , datasets , metrics\n",
    "from sklearn.cluster import KMeans\n",
    "\n",
    "n_clusters = 3  #將資料分幾群\n",
    "\n",
    "kmeans = cluster.KMeans(n_clusters).fit(df1)\n",
    "#fit() 求算出基礎統計資料供KMeans()使用\n",
    "\n",
    "kmeans"
   ]
  },
  {
   "cell_type": "code",
   "execution_count": 4,
   "id": "f0230c69",
   "metadata": {},
   "outputs": [
    {
     "name": "stdout",
     "output_type": "stream",
     "text": [
      "[[7.82702703e+01 1.82372292e+07]\n",
      " [7.90476190e+01 2.55201465e+07]\n",
      " [5.59285714e+01 1.36343541e+07]]\n",
      "[1 1 1 1 1 1 1 1 1 1 1 1 1 1 1 1 1 1 1 1 1 0 0 0 0 0 0 0 0 0 0 0 0 0 0 0 0\n",
      " 0 0 0 0 0 0 0 0 0 0 0 0 0 0 0 0 0 0 0 0 0 2 2 2 2 2 2 2 2 2 2 2 2 2 2 2 2\n",
      " 2 2 2 2 2 2 2 2 2 2 2 2 2 2 2 2 2 2 2 2 2 2 2 2 2 2]\n"
     ]
    },
    {
     "data": {
      "text/plain": [
       "<matplotlib.collections.PathCollection at 0x13014dd7be0>"
      ]
     },
     "execution_count": 4,
     "metadata": {},
     "output_type": "execute_result"
    },
    {
     "data": {
      "image/png": "[encoded data removed]",
      "text/plain": [
       "<Figure size 432x288 with 1 Axes>"
      ]
     },
     "metadata": {
      "needs_background": "light"
     },
     "output_type": "display_data"
    }
   ],
   "source": [
    "centroids = kmeans.cluster_centers_\n",
    "print(centroids)\n",
    "\n",
    "cluster_labels = kmeans.labels_\n",
    "print(cluster_labels)\n",
    "\n",
    "#scatter() 內接收第四個參數為資料點漸層係數，數值越小越透明\n",
    "\n",
    "plt.scatter(df1['x'] , df1['y'] , c = kmeans.labels_ , s = 50 , alpha = 0.6)\n",
    "\n",
    "#接續執行第二個scatter()，第一個接收參數為array中的第0欄所有資料，c為中心點顏色，s為深淺度，alpha為透明度\n",
    "\n",
    "plt.scatter(centroids[: , 0] , centroids[: , 1] , c = 'red' , s = 200)"
   ]
  },
  {
   "cell_type": "code",
   "execution_count": 5,
   "id": "49309332",
   "metadata": {},
   "outputs": [
    {
     "data": {
      "text/plain": [
       "Text(0, 0.5, 'SSE value')"
      ]
     },
     "execution_count": 5,
     "metadata": {},
     "output_type": "execute_result"
    },
    {
     "data": {
      "image/png": "[encoded data removed]",
      "text/plain": [
       "<Figure size 576x288 with 1 Axes>"
      ]
     },
     "metadata": {
      "needs_background": "light"
     },
     "output_type": "display_data"
    }
   ],
   "source": [
    "SSE = []\n",
    "\n",
    "k = range(2 , 11)\n",
    "\n",
    "for x in k:\n",
    "    kmean_optimized = KMeans(n_clusters = x)\n",
    "    kmean_optimized.fit(df1)\n",
    "    SSE.append(kmean_optimized.inertia_)  #計算inertia_，即SSE\n",
    "    \n",
    "    \n",
    "plt.figure(figsize = (8,4))\n",
    "plt.plot(k , SSE , 'bo--')\n",
    "plt.title(\"Optimal number of clusters\")\n",
    "plt.xlabel(\"Number of Clusters\")\n",
    "plt.ylabel(\"SSE value\")"
   ]
  },
  {
   "cell_type": "code",
   "execution_count": null,
   "id": "a49103f5",
   "metadata": {},
   "outputs": [],
   "source": []
  }
 ],
 "metadata": {
  "kernelspec": {
   "display_name": "Python 3",
   "language": "python",
   "name": "python3"
  },
  "language_info": {
   "codemirror_mode": {
    "name": "ipython",
    "version": 3
   },
   "file_extension": ".py",
   "mimetype": "text/x-python",
   "name": "python",
   "nbconvert_exporter": "python",
   "pygments_lexer": "ipython3",
   "version": "3.8.8"
  }
 },
 "nbformat": 4,
 "nbformat_minor": 5
}
